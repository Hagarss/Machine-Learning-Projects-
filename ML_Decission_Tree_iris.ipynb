{
  "nbformat": 4,
  "nbformat_minor": 0,
  "metadata": {
    "colab": {
      "private_outputs": true,
      "provenance": []
    },
    "kernelspec": {
      "name": "python3",
      "display_name": "Python 3"
    },
    "language_info": {
      "name": "python"
    }
  },
  "cells": [
    {
      "cell_type": "code",
      "execution_count": null,
      "metadata": {
        "id": "9A5i2MOuFVNS"
      },
      "outputs": [],
      "source": [
        "import numpy as np\n",
        "import matplotlib.pyplot as plt\n",
        "import seaborn as sns\n",
        "import pandas as pd\n",
        "from sklearn.model_selection import train_test_split\n",
        "from sklearn.tree import DecisionTreeClassifier\n",
        "from sklearn.preprocessing import LabelEncoder\n",
        "from sklearn.tree import plot_tree\n",
        "from sklearn.metrics import accuracy_score,confusion_matrix,classification_report\n",
        "\n"
      ]
    },
    {
      "cell_type": "code",
      "source": [
        "from sklearn.datasets import load_iris\n",
        "iris=load_iris()\n",
        "X=pd.DataFrame(iris.data,columns=iris.feature_names)\n",
        "y=pd.Series(iris.target)\n",
        "#\n"
      ],
      "metadata": {
        "id": "ZTzouEOpF2KJ"
      },
      "execution_count": null,
      "outputs": []
    },
    {
      "cell_type": "code",
      "source": [
        "iris.target_names"
      ],
      "metadata": {
        "id": "oZqWAWqYIAuP"
      },
      "execution_count": null,
      "outputs": []
    },
    {
      "cell_type": "code",
      "source": [
        "X"
      ],
      "metadata": {
        "id": "y0QlJ5A7F2Gr"
      },
      "execution_count": null,
      "outputs": []
    },
    {
      "cell_type": "code",
      "source": [
        "x_train,x_test,y_train,y_test=train_test_split(X,y,test_size=0.4,random_state=30)\n",
        "x_train.shape\n"
      ],
      "metadata": {
        "id": "Chc0hgogGKJE"
      },
      "execution_count": null,
      "outputs": []
    },
    {
      "cell_type": "code",
      "source": [
        "#decission tree\n",
        "model=DecisionTreeClassifier(criterion='gini',max_depth=5,min_samples_split=2)\n",
        "model.fit(x_train,y_train)\n"
      ],
      "metadata": {
        "id": "ZWAKpn0BGMZb"
      },
      "execution_count": null,
      "outputs": []
    },
    {
      "cell_type": "code",
      "source": [
        "model.classes_"
      ],
      "metadata": {
        "id": "2muYiRMNJE1M"
      },
      "execution_count": null,
      "outputs": []
    },
    {
      "cell_type": "code",
      "source": [
        "y_pred=model.predict(x_test)\n"
      ],
      "metadata": {
        "id": "_Du8TZGtI8NZ"
      },
      "execution_count": null,
      "outputs": []
    },
    {
      "cell_type": "code",
      "source": [
        "print(accuracy_score(y_pred,y_test))"
      ],
      "metadata": {
        "id": "52L2WsASGO2i"
      },
      "execution_count": null,
      "outputs": []
    },
    {
      "cell_type": "code",
      "source": [],
      "metadata": {
        "id": "2RsPHn3cGSCy"
      },
      "execution_count": null,
      "outputs": []
    },
    {
      "cell_type": "code",
      "source": [
        "plt.figure(figsize=(10,10))\n",
        "plot_tree(model,filled=True,feature_names=iris.feature_names,class_names=iris.target_names)\n",
        "\n",
        "plt.tight_layout()\n",
        "plt.show()"
      ],
      "metadata": {
        "id": "pB8s02UBGUO_"
      },
      "execution_count": null,
      "outputs": []
    },
    {
      "cell_type": "code",
      "source": [
        "model.tree_.max_depth\n"
      ],
      "metadata": {
        "id": "zDilkFjiGZd6"
      },
      "execution_count": null,
      "outputs": []
    },
    {
      "cell_type": "markdown",
      "source": [
        "## Decision Tree Regressor"
      ],
      "metadata": {
        "id": "gRK3SPACSM6W"
      }
    },
    {
      "cell_type": "code",
      "source": [
        "import pandas as pd\n",
        "import matplotlib.pyplot as plt\n",
        "from sklearn.metrics import mean_squared_error\n",
        "from sklearn.tree import DecisionTreeRegressor\n",
        "from sklearn import tree\n"
      ],
      "metadata": {
        "id": "gK4FXmw1SzbI"
      },
      "execution_count": null,
      "outputs": []
    },
    {
      "cell_type": "code",
      "source": [],
      "metadata": {
        "id": "AluOZr37StLT"
      },
      "execution_count": null,
      "outputs": []
    },
    {
      "cell_type": "code",
      "source": [
        "df=pd.read_csv('Position_Salaries.csv')\n",
        "df.head()"
      ],
      "metadata": {
        "id": "GYdgwlVzQzPs"
      },
      "execution_count": null,
      "outputs": []
    },
    {
      "cell_type": "code",
      "source": [
        "X=df.iloc[:,1:2]\n",
        "y=df.iloc[:,-1]"
      ],
      "metadata": {
        "id": "CVTrViBqRPI5"
      },
      "execution_count": null,
      "outputs": []
    },
    {
      "cell_type": "code",
      "source": [
        "model2=DecisionTreeRegressor(max_depth=6,min_samples_split=2)\n",
        "model2.fit(X,y)\n"
      ],
      "metadata": {
        "id": "Pf45QvhiRliA"
      },
      "execution_count": null,
      "outputs": []
    },
    {
      "cell_type": "code",
      "source": [
        "y_pred=model2.predict(X)"
      ],
      "metadata": {
        "id": "87t7vM-9ToxC"
      },
      "execution_count": null,
      "outputs": []
    },
    {
      "cell_type": "code",
      "source": [
        "print(accuracy_score(y_pred,y))"
      ],
      "metadata": {
        "id": "X89b8AJZTigT"
      },
      "execution_count": null,
      "outputs": []
    },
    {
      "cell_type": "code",
      "source": [
        "tree.plot_tree(model2,filled=True)\n",
        "plt.tight_layout()\n",
        "plt.show"
      ],
      "metadata": {
        "id": "akaY_3xzUvfR"
      },
      "execution_count": null,
      "outputs": []
    },
    {
      "cell_type": "code",
      "source": [
        "import graphviz\n",
        "dot_data=tree.export_graphviz(model2,out_file=None)\n",
        "graph=graphviz.Source(dot_data)\n",
        "graph.render('tree')\n",
        "graph\n"
      ],
      "metadata": {
        "id": "E8gCKahhTsSm"
      },
      "execution_count": null,
      "outputs": []
    },
    {
      "cell_type": "code",
      "source": [
        "y_pred"
      ],
      "metadata": {
        "id": "zNb-PZysWCkg"
      },
      "execution_count": null,
      "outputs": []
    },
    {
      "cell_type": "code",
      "source": [
        "plt.scatter(X, y, color='red')\n",
        "plt.plot(X, y_pred, color='blue')\n",
        "plt.title('(Polymonial Regression)')\n",
        "plt.xlabel('Position Level')\n",
        "plt.ylabel('Salary')\n"
      ],
      "metadata": {
        "id": "eq5MMQP4UXbE"
      },
      "execution_count": null,
      "outputs": []
    },
    {
      "cell_type": "markdown",
      "source": [
        "## Logestic"
      ],
      "metadata": {
        "id": "3N19Q44iZMx-"
      }
    },
    {
      "cell_type": "code",
      "source": [
        "from keras.datasets import mnist\n",
        "from sklearn.linear_model import LogisticRegression\n",
        "\n",
        "\n"
      ],
      "metadata": {
        "id": "j-RkZ4eXYX1S"
      },
      "execution_count": null,
      "outputs": []
    },
    {
      "cell_type": "code",
      "source": [
        "(x_train,y_train),(x_test,y_test)=mnist.load_data()"
      ],
      "metadata": {
        "id": "eMiNxkPWY8bG"
      },
      "execution_count": null,
      "outputs": []
    },
    {
      "cell_type": "code",
      "source": [
        "x_train.shape"
      ],
      "metadata": {
        "id": "lBgXydjRZA9q"
      },
      "execution_count": null,
      "outputs": []
    },
    {
      "cell_type": "code",
      "source": [
        "x_test.shape"
      ],
      "metadata": {
        "id": "JmcJ9oMqZfFP"
      },
      "execution_count": null,
      "outputs": []
    },
    {
      "cell_type": "code",
      "source": [
        "#flate the images to enter the model\n",
        "#x_train.reshape(-1,784) where 28*28=784"
      ],
      "metadata": {
        "id": "FUPIKYjaoNq6"
      },
      "execution_count": null,
      "outputs": []
    },
    {
      "cell_type": "code",
      "source": [
        "x_train=x_train.reshape(60000,784)\n",
        "x_test=x_test.reshape(10000,784)\n"
      ],
      "metadata": {
        "id": "Lu01z7EUZF2s"
      },
      "execution_count": null,
      "outputs": []
    },
    {
      "cell_type": "markdown",
      "source": [],
      "metadata": {
        "id": "xgal3D5NodzR"
      }
    },
    {
      "cell_type": "markdown",
      "source": [
        "## Normalization"
      ],
      "metadata": {
        "id": "eNfb9MUycpfp"
      }
    },
    {
      "cell_type": "code",
      "source": [
        "#Scaling 0:1\n",
        "max(x_train[100])\n"
      ],
      "metadata": {
        "id": "WUEv0Sc6oSyM"
      },
      "execution_count": null,
      "outputs": []
    },
    {
      "cell_type": "code",
      "source": [
        "x_train=x_train/255\n",
        "x_test=x_test/255"
      ],
      "metadata": {
        "id": "3gfm7JUYZmKW"
      },
      "execution_count": null,
      "outputs": []
    },
    {
      "cell_type": "code",
      "source": [
        "model3=LogisticRegression()"
      ],
      "metadata": {
        "id": "i2X9FC5DZcOI"
      },
      "execution_count": null,
      "outputs": []
    },
    {
      "cell_type": "code",
      "source": [
        "model3.fit(x_train,y_train)"
      ],
      "metadata": {
        "id": "yKRwInptaaty"
      },
      "execution_count": null,
      "outputs": []
    },
    {
      "cell_type": "code",
      "source": [
        "y_pred=model3.predict(x_test)"
      ],
      "metadata": {
        "id": "t-Y56xEJazvc"
      },
      "execution_count": null,
      "outputs": []
    },
    {
      "cell_type": "code",
      "source": [
        "accuracy_score(y_pred,y_test)"
      ],
      "metadata": {
        "id": "PBcHyXMla327"
      },
      "execution_count": null,
      "outputs": []
    },
    {
      "cell_type": "code",
      "source": [
        "plt.figure(figsize=(4,2))\n",
        "plt.imshow(x_test[55].reshape(28,28),cmap='gray')\n",
        "print(y_pred[55])\n",
        "\n"
      ],
      "metadata": {
        "id": "Pz5YULnNa-SI"
      },
      "execution_count": null,
      "outputs": []
    },
    {
      "cell_type": "markdown",
      "source": [
        "![image.png](data:image/png;base64,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)"
      ],
      "metadata": {
        "id": "Mow71WJCetV3"
      }
    },
    {
      "cell_type": "code",
      "source": [
        "from tensorflow.keras.preprocessing.image import load_img,img_to_array\n"
      ],
      "metadata": {
        "id": "5tqcjp-icw9j"
      },
      "execution_count": null,
      "outputs": []
    },
    {
      "cell_type": "code",
      "source": [
        "img=load_img('4.jpg',color_mode='grayscale',target_size=(28,28))\n",
        "img=img_to_array(img)\n",
        "img=img.reshape(1,784)\n",
        "\n"
      ],
      "metadata": {
        "id": "kIwiPkMQijIi"
      },
      "execution_count": null,
      "outputs": []
    },
    {
      "cell_type": "code",
      "source": [
        "y_pred=model3.predict(img)\n",
        "y_pred"
      ],
      "metadata": {
        "id": "M5zFQJ_rjiZP"
      },
      "execution_count": null,
      "outputs": []
    },
    {
      "cell_type": "code",
      "source": [
        "img=load_img('7.jpg',color_mode='grayscale',target_size=(28,28))\n",
        "img=img_to_array(img)\n",
        "img=img.reshape(1,784)\n",
        "y_pred=model3.predict(img)\n",
        "y_pred\n"
      ],
      "metadata": {
        "id": "SpDKvaz-jiVa"
      },
      "execution_count": null,
      "outputs": []
    },
    {
      "cell_type": "code",
      "source": [
        "import pickle\n",
        "pickle.dump(model3,open('minst.save','wb'))"
      ],
      "metadata": {
        "id": "-ls7hwoUWcz7"
      },
      "execution_count": null,
      "outputs": []
    },
    {
      "cell_type": "code",
      "source": [
        "model4=pickle.load(open('minst.save','rb'))"
      ],
      "metadata": {
        "id": "coAZHykqfobG"
      },
      "execution_count": null,
      "outputs": []
    },
    {
      "cell_type": "code",
      "source": [
        "#predict the y of the new img\n",
        "img=load_img('7.jpg',color_mode='grayscale',target_size=(28,28))\n",
        "img=img_to_array(img)/255\n",
        "img=img.reshape(-1,784)"
      ],
      "metadata": {
        "id": "rNQ0Gpj-foYJ"
      },
      "execution_count": null,
      "outputs": []
    },
    {
      "cell_type": "code",
      "source": [
        "yy=model4.predict(img)\n",
        "yy"
      ],
      "metadata": {
        "id": "oZ3CjQ_snvs4"
      },
      "execution_count": null,
      "outputs": []
    },
    {
      "cell_type": "code",
      "source": [
        "from google.colab import drive\n",
        "drive.mount('/content/drive')"
      ],
      "metadata": {
        "id": "TxrfCe58VKt4"
      },
      "execution_count": null,
      "outputs": []
    },
    {
      "cell_type": "markdown",
      "source": [
        "![image.png](data:image/png;base64,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)"
      ],
      "metadata": {
        "id": "oW_i6DmWXUo4"
      }
    },
    {
      "cell_type": "code",
      "source": [
        "pickle.dump(model3,open('/content/drive/MyDrive/Colab Notebooks/Models/minst.save','wb'))"
      ],
      "metadata": {
        "id": "CijRO9OwfoeW"
      },
      "execution_count": null,
      "outputs": []
    },
    {
      "cell_type": "code",
      "source": [
        "loaded_model=pickle.load(open('/content/drive/MyDrive/Colab Notebooks/Models/minst.save','rb'))"
      ],
      "metadata": {
        "id": "E5vNbytKX7LZ"
      },
      "execution_count": null,
      "outputs": []
    },
    {
      "cell_type": "code",
      "source": [
        "img=load_img('7.jpg',color_mode='grayscale',target_size=(28,28))\n",
        "img=img_to_array(img)/255\n",
        "img=img.reshape(-1,784)\n",
        "yy=loaded_model.predict(img)\n",
        "yy"
      ],
      "metadata": {
        "id": "QQJbWHUKWXKk"
      },
      "execution_count": null,
      "outputs": []
    }
  ]
}