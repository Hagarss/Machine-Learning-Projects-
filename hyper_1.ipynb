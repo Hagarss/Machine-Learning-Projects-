{
  "nbformat": 4,
  "nbformat_minor": 0,
  "metadata": {
    "colab": {
      "private_outputs": true,
      "provenance": []
    },
    "kernelspec": {
      "name": "python3",
      "display_name": "Python 3"
    },
    "language_info": {
      "name": "python"
    }
  },
  "cells": [
    {
      "cell_type": "code",
      "execution_count": null,
      "metadata": {
        "id": "K0knZCEGNDwl"
      },
      "outputs": [],
      "source": [
        "import pandas as pd\n",
        "import numpy as np\n",
        "import matplotlib.pyplot as plt\n",
        "import seaborn as sns\n",
        "from sklearn.metrics import r2_score,mean_absolute_error,mean_squared_error\n",
        "import warnings\n",
        "warnings.filterwarnings(\"ignore\")"
      ]
    },
    {
      "cell_type": "code",
      "source": [],
      "metadata": {
        "id": "9HJ4SNXoQwzq"
      },
      "execution_count": null,
      "outputs": []
    },
    {
      "cell_type": "code",
      "source": [
        "from sklearn.datasets import load_breast_cancer\n",
        "data=load_breast_cancer()\n",
        "x=pd.DataFrame(data.data,columns=data.feature_names)\n",
        "y=pd.DataFrame(data.target,columns=[\"target\"])"
      ],
      "metadata": {
        "id": "njPXgrjJOoh7"
      },
      "execution_count": null,
      "outputs": []
    },
    {
      "cell_type": "code",
      "source": [
        "from sklearn.model_selection import train_test_split\n",
        "x_train,x_test,y_train,y_test=train_test_split(x,y,test_size=0.2,random_state=42)\n"
      ],
      "metadata": {
        "id": "Vi2z9rwSNP8H"
      },
      "execution_count": null,
      "outputs": []
    },
    {
      "cell_type": "code",
      "source": [
        "from sklearn.svm import SVC\n",
        "from sklearn.metrics import accuracy_score"
      ],
      "metadata": {
        "id": "_d_-od5xTqXD"
      },
      "execution_count": null,
      "outputs": []
    },
    {
      "cell_type": "code",
      "source": [
        "from sklearn.model_selection import GridSearchCV,RandomizedSearchCV\n",
        "svm = SVC(class_weight=\"balanced\", probability=True, random_state=42)\n",
        "param_grid = {\n",
        "    \"kernel\": [\"rbf\"],\n",
        "    \"C\": [0.1, 1,10,100],\n",
        "    \"gamma\": [\"scale\", \"auto\"]\n",
        "\n",
        "}\n",
        "grid_search = GridSearchCV(svm, param_grid, cv=5, scoring=\"accuracy\")\n",
        "grid_search.fit(x_train, y_train)\n"
      ],
      "metadata": {
        "id": "zbzIJtIgN6Zq"
      },
      "execution_count": null,
      "outputs": []
    },
    {
      "cell_type": "code",
      "source": [
        "score=grid_search.best_score_\n",
        "score"
      ],
      "metadata": {
        "id": "ehFnea7RQ6EC"
      },
      "execution_count": null,
      "outputs": []
    },
    {
      "cell_type": "code",
      "source": [
        "grid_search = RandomizedSearchCV(svm, param_grid, cv=5, scoring=\"accuracy\",n_iter=100)\n",
        "grid_search.fit(x_train, y_train)"
      ],
      "metadata": {
        "id": "WzeUTHuHRQPQ"
      },
      "execution_count": null,
      "outputs": []
    },
    {
      "cell_type": "code",
      "source": [
        "score=grid_search.best_score_\n",
        "score"
      ],
      "metadata": {
        "id": "zZOIWOTcRQKR"
      },
      "execution_count": null,
      "outputs": []
    }
  ]
}