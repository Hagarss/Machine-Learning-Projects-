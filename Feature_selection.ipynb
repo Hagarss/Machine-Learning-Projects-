{
  "nbformat": 4,
  "nbformat_minor": 0,
  "metadata": {
    "colab": {
      "private_outputs": true,
      "provenance": []
    },
    "kernelspec": {
      "name": "python3",
      "display_name": "Python 3"
    },
    "language_info": {
      "name": "python"
    }
  },
  "cells": [
    {
      "cell_type": "code",
      "execution_count": null,
      "metadata": {
        "id": "aAUw6hlkwX2K"
      },
      "outputs": [],
      "source": [
        "import numpy as np\n",
        "import matplotlib.pyplot as plt\n",
        "import seaborn as sns\n",
        "import pandas as pd\n",
        "from sklearn.model_selection import train_test_split\n",
        "from sklearn.cluster import KMeans,AgglomerativeClustering\n",
        "from sklearn.preprocessing import OneHotEncoder,MinMaxScaler\n",
        "from scipy.cluster.hierarchy import dendrogram, linkage\n",
        "import warnings\n",
        "warnings.filterwarnings(\"ignore\")"
      ]
    },
    {
      "cell_type": "code",
      "source": [
        "from sklearn.linear_model import LinearRegression\n",
        "from sklearn.metrics import r2_score"
      ],
      "metadata": {
        "id": "0gs0AJ1mFx-6"
      },
      "execution_count": null,
      "outputs": []
    },
    {
      "cell_type": "code",
      "source": [
        "df=pd.read_csv('/content/drive/MyDrive/Colab Notebooks/Data/auto-mpg_without_nan.csv')"
      ],
      "metadata": {
        "id": "dj6PXhyxw29D"
      },
      "execution_count": null,
      "outputs": []
    },
    {
      "cell_type": "code",
      "source": [
        "df"
      ],
      "metadata": {
        "id": "LT_WY4kDx8Hn"
      },
      "execution_count": null,
      "outputs": []
    },
    {
      "cell_type": "code",
      "source": [
        "df.drop(columns=['name'],axis=1,inplace=True)"
      ],
      "metadata": {
        "id": "oezgYjzzxQAn"
      },
      "execution_count": null,
      "outputs": []
    },
    {
      "cell_type": "code",
      "source": [
        "df[\"origin\"]=df[\"origin\"].astype('category').cat.codes"
      ],
      "metadata": {
        "id": "Bj7tYpSF0Q-I"
      },
      "execution_count": null,
      "outputs": []
    },
    {
      "cell_type": "code",
      "source": [
        "df_corr=df.corr().abs().round(2)"
      ],
      "metadata": {
        "id": "e7gl61BDxQnE"
      },
      "execution_count": null,
      "outputs": []
    },
    {
      "cell_type": "code",
      "source": [
        "feature_select=df_corr[df_corr['mpg']>=.6]\n",
        "feature_select"
      ],
      "metadata": {
        "id": "KeTwmCzYxgJ6"
      },
      "execution_count": null,
      "outputs": []
    },
    {
      "cell_type": "code",
      "source": [
        "feature_select=list(df_corr[df_corr['mpg']>=.5].index)\n",
        "feature_select"
      ],
      "metadata": {
        "id": "47ETSWPFyfLe"
      },
      "execution_count": null,
      "outputs": []
    },
    {
      "cell_type": "code",
      "source": [
        "feature_select.remove('mpg')\n",
        "#feature_select.pop(0)\n",
        "feature_select"
      ],
      "metadata": {
        "id": "UMh2WAAxyV2x"
      },
      "execution_count": null,
      "outputs": []
    },
    {
      "cell_type": "code",
      "source": [
        "x=df.drop(columns=['mpg'],axis=1)\n",
        "y=df['mpg']"
      ],
      "metadata": {
        "id": "j3yjI6tx1QiF"
      },
      "execution_count": null,
      "outputs": []
    },
    {
      "cell_type": "code",
      "source": [
        "feature_select_1=x[feature_select]\n",
        "feature_select_1"
      ],
      "metadata": {
        "id": "BBwqF5DXzpio"
      },
      "execution_count": null,
      "outputs": []
    },
    {
      "cell_type": "markdown",
      "source": [
        "# 2nd method using X only"
      ],
      "metadata": {
        "id": "dfVOxIPU4M4m"
      }
    },
    {
      "cell_type": "code",
      "source": [
        "x_corr=x.corr().abs().round(2)\n",
        "x_corr"
      ],
      "metadata": {
        "id": "u0g7CKkQ1hFg"
      },
      "execution_count": null,
      "outputs": []
    },
    {
      "cell_type": "code",
      "source": [
        "sns.heatmap(x_corr,annot=True)"
      ],
      "metadata": {
        "id": "dkvFBSXA5KLP"
      },
      "execution_count": null,
      "outputs": []
    },
    {
      "cell_type": "code",
      "source": [
        "x_corr.columns"
      ],
      "metadata": {
        "id": "yW5DGvsW4GdO"
      },
      "execution_count": null,
      "outputs": []
    },
    {
      "cell_type": "code",
      "source": [
        "#feature selection using x_corr\n",
        "corr_feature=[]\n",
        "for i in range(len(x_corr.columns)):\n",
        "  for j in range(i):\n",
        "    if x_corr.iloc[i,j]>=.5:\n",
        "      colname=x_corr.columns[i]\n",
        "      corr_feature.append(colname)\n",
        "print(corr_feature)\n",
        "print(set(corr_feature))\n",
        "features_drop=set(corr_feature)\n"
      ],
      "metadata": {
        "id": "kHQaBBQD5HkR"
      },
      "execution_count": null,
      "outputs": []
    },
    {
      "cell_type": "code",
      "source": [
        "feature_select_2=x.drop(columns=features_drop,axis=1)\n",
        "feature_select_2"
      ],
      "metadata": {
        "id": "1akg4xe96L3A"
      },
      "execution_count": null,
      "outputs": []
    },
    {
      "cell_type": "code",
      "source": [
        "x_train,x_test,y_train,y_test=train_test_split(x,y,test_size=.2,random_state=42)\n",
        "x_train1,x_test1,y_train1,y_test1=train_test_split(feature_select_1,y,test_size=.2,random_state=42)\n",
        "x_train2,x_test2,y_train2,y_test2=train_test_split(feature_select_2,y,test_size=.2,random_state=42)"
      ],
      "metadata": {
        "id": "UAE5YkKw-mui"
      },
      "execution_count": null,
      "outputs": []
    },
    {
      "cell_type": "code",
      "source": [
        "scaler=MinMaxScaler()\n",
        "\n",
        "x_train=scaler.fit_transform(x_train)\n",
        "x_test=scaler.transform(x_test)\n",
        "\n",
        "x_train1=scaler.fit_transform(x_train1)\n",
        "x_test1=scaler.transform(x_test1)\n",
        "\n",
        "x_train2=scaler.fit_transform(x_train2)\n",
        "x_test2=scaler.transform(x_test2)\n",
        "\n"
      ],
      "metadata": {
        "id": "OqAWM0Gr94_x"
      },
      "execution_count": null,
      "outputs": []
    },
    {
      "cell_type": "code",
      "source": [
        "from sklearn.linear_model import LinearRegression\n",
        "from sklearn.metrics import r2_score\n",
        "lr=LinearRegression()\n",
        "lr1=LinearRegression()\n",
        "lr2=LinearRegression()\n",
        "\n"
      ],
      "metadata": {
        "id": "jLYadbG9-QsR"
      },
      "execution_count": null,
      "outputs": []
    },
    {
      "cell_type": "code",
      "source": [
        "y_pred=lr.fit(x_train,y_train).predict(x_test)\n",
        "y_pred1=lr1.fit(x_train1,y_train1).predict(x_test1)\n",
        "y_pred2=lr2.fit(x_train2,y_train2).predict(x_test2)"
      ],
      "metadata": {
        "id": "gTrD-gHu_TOj"
      },
      "execution_count": null,
      "outputs": []
    },
    {
      "cell_type": "code",
      "source": [
        "r2=r2_score(y_test,y_pred)\n",
        "r2_1=r2_score(y_test1,y_pred1)\n",
        "r2_2=r2_score(y_test2,y_pred2)"
      ],
      "metadata": {
        "id": "T4o2e_4-_YPX"
      },
      "execution_count": null,
      "outputs": []
    },
    {
      "cell_type": "code",
      "source": [
        "print(r2)\n",
        "print(r2_1)\n",
        "print(r2_2)"
      ],
      "metadata": {
        "id": "B7fN_3fE_i6D"
      },
      "execution_count": null,
      "outputs": []
    }
  ]
}