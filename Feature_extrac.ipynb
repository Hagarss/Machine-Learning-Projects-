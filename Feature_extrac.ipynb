{
  "nbformat": 4,
  "nbformat_minor": 0,
  "metadata": {
    "colab": {
      "private_outputs": true,
      "provenance": []
    },
    "kernelspec": {
      "name": "python3",
      "display_name": "Python 3"
    },
    "language_info": {
      "name": "python"
    }
  },
  "cells": [
    {
      "cell_type": "code",
      "source": [],
      "metadata": {
        "id": "GNMzWqwzcoPV"
      },
      "execution_count": null,
      "outputs": []
    },
    {
      "cell_type": "code",
      "execution_count": null,
      "metadata": {
        "id": "HoWoHGZdGLdr"
      },
      "outputs": [],
      "source": [
        "#using iris dataset\n",
        "import pandas as pd\n",
        "import numpy as np\n",
        "import matplotlib.pyplot as plt\n",
        "import seaborn as sns\n",
        "from sklearn import datasets\n",
        "#from sklearn.model_selection import train_test_split\n",
        "from sklearn.linear_model import LinearRegression,LogisticRegression\n",
        "from sklearn.metrics import mean_squared_error, r2_score\n",
        "from sklearn.preprocessing import StandardScaler\n",
        "from sklearn.metrics import accuracy_score\n",
        "\n",
        "\n",
        "iris = datasets.load_iris()\n",
        "x=iris.data\n",
        "y=iris.target\n",
        "\n",
        "x_std=StandardScaler().fit_transform(x)\n",
        "\n"
      ]
    },
    {
      "cell_type": "code",
      "source": [
        "cov_mat=np.cov(x_std.T)\n",
        "cov_mat"
      ],
      "metadata": {
        "id": "7R9oaJ4aHPix"
      },
      "execution_count": null,
      "outputs": []
    },
    {
      "cell_type": "code",
      "source": [
        "cov_mat=np.cov(x_std.T)\n",
        "eigen_values,eigen_vectors=np.linalg.eig(cov_mat.T)\n",
        "print(eigen_values)\n",
        "print()\n",
        "print(eigen_vectors)"
      ],
      "metadata": {
        "id": "oyPnhDLVHNCL"
      },
      "execution_count": null,
      "outputs": []
    },
    {
      "cell_type": "code",
      "source": [
        "#explained variance\n",
        "tot=sum(eigen_values)\n",
        "var_exp=[(i/tot)*100 for i in eigen_values]\n",
        "print(var_exp)"
      ],
      "metadata": {
        "id": "KMnXP4cOH7KS"
      },
      "execution_count": null,
      "outputs": []
    },
    {
      "cell_type": "code",
      "source": [
        "#pca\n",
        "x_pca_scratch=x_std.dot(eigen_vectors[:,:2])\n",
        "x_pca_scratch[0:5]"
      ],
      "metadata": {
        "id": "eMfFAM6OIQMb"
      },
      "execution_count": null,
      "outputs": []
    },
    {
      "cell_type": "code",
      "source": [
        "x_pca_scratch[:,1:]=-1*x_pca_scratch[:,1:]\n",
        "x_pca_scratch[0:5]"
      ],
      "metadata": {
        "id": "ebonbsguJ-ke"
      },
      "execution_count": null,
      "outputs": []
    },
    {
      "cell_type": "code",
      "source": [
        "from sklearn.decomposition import PCA\n",
        "pca_sklearn=PCA(n_components=2)\n",
        "x_pca=pca_sklearn.fit_transform(x_std)\n",
        "x_pca[0:5]"
      ],
      "metadata": {
        "id": "VsPFO6ZDJJp8"
      },
      "execution_count": null,
      "outputs": []
    },
    {
      "cell_type": "code",
      "source": [
        "print(pca_sklearn.explained_variance_)\n",
        "print(pca_sklearn.explained_variance_ratio_)\n",
        "print(pca_sklearn.components_)"
      ],
      "metadata": {
        "id": "zo7C3VynLt9X"
      },
      "execution_count": null,
      "outputs": []
    },
    {
      "cell_type": "markdown",
      "source": [
        "**For 3 principal components**"
      ],
      "metadata": {
        "id": "8dsVQNwELNq-"
      }
    },
    {
      "cell_type": "code",
      "source": [
        "#pca\n",
        "x_pca_scratch1=x_std.dot(eigen_vectors[:,:3])\n",
        "x_pca_scratch1[0:5]"
      ],
      "metadata": {
        "id": "sk_IYe67K5PR"
      },
      "execution_count": null,
      "outputs": []
    },
    {
      "cell_type": "code",
      "source": [
        "x_pca_scratch1[:,1:]=-1*x_pca_scratch1[:,1:]\n",
        "x_pca_scratch1[0:5]"
      ],
      "metadata": {
        "id": "GGuTgtYKLBpv"
      },
      "execution_count": null,
      "outputs": []
    },
    {
      "cell_type": "code",
      "source": [
        "from sklearn.decomposition import PCA\n",
        "pca_sklearn1=PCA(n_components=3)\n",
        "x_pca1=pca_sklearn1.fit_transform(x_std)\n",
        "x_pca1[0:5]"
      ],
      "metadata": {
        "id": "6GVk23JcJaLu"
      },
      "execution_count": null,
      "outputs": []
    },
    {
      "cell_type": "code",
      "source": [
        "print(pca_sklearn1.explained_variance_)\n",
        "print(pca_sklearn1.explained_variance_ratio_)\n",
        "print(pca_sklearn1.components_)"
      ],
      "metadata": {
        "id": "8fwd5WPBMAO4"
      },
      "execution_count": null,
      "outputs": []
    },
    {
      "cell_type": "markdown",
      "source": [
        "**classifier**"
      ],
      "metadata": {
        "id": "I6WrT2PsLiOM"
      }
    },
    {
      "cell_type": "code",
      "source": [
        "#using logistic regression for x_std and x_pca_scratch\n",
        "model1=LogisticRegression()\n",
        "model1.fit(x_std,y)\n",
        "y_pred1=model1.predict(x_std)\n",
        "print(accuracy_score(y,y_pred1))\n"
      ],
      "metadata": {
        "id": "2GRninliLg6T"
      },
      "execution_count": null,
      "outputs": []
    },
    {
      "cell_type": "code",
      "source": [
        "model1=LogisticRegression()\n",
        "model1.fit(x_pca_scratch,y)\n",
        "y_pred1=model1.predict(x_pca_scratch)\n",
        "print(accuracy_score(y,y_pred1))"
      ],
      "metadata": {
        "id": "jeggVJf3M22w"
      },
      "execution_count": null,
      "outputs": []
    },
    {
      "cell_type": "code",
      "source": [
        "model1=LogisticRegression()\n",
        "model1.fit(x_pca1,y)\n",
        "y_pred1=model1.predict(x_pca1)\n",
        "print(accuracy_score(y,y_pred1))"
      ],
      "metadata": {
        "id": "orrbqtW6NGa6"
      },
      "execution_count": null,
      "outputs": []
    }
  ]
}