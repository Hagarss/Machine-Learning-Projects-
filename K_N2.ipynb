{
  "nbformat": 4,
  "nbformat_minor": 0,
  "metadata": {
    "colab": {
      "private_outputs": true,
      "provenance": []
    },
    "kernelspec": {
      "name": "python3",
      "display_name": "Python 3"
    },
    "language_info": {
      "name": "python"
    }
  },
  "cells": [
    {
      "cell_type": "code",
      "execution_count": null,
      "metadata": {
        "id": "HP3sFzDEc8S9"
      },
      "outputs": [],
      "source": [
        "import numpy as np\n",
        "import matplotlib.pyplot as plt\n",
        "import seaborn as sns\n",
        "import pandas as pd\n",
        "from sklearn.model_selection import train_test_split\n",
        "from sklearn.cluster import KMeans,AgglomerativeClustering\n",
        "from sklearn.preprocessing import OneHotEncoder\n",
        "from scipy.cluster.hierarchy import dendrogram, linkage\n",
        "import warnings\n",
        "warnings.filterwarnings(\"ignore\")\n",
        "from sklearn.preprocessing import StandardScaler\n",
        "from sklearn.metrics import silhouette_score\n"
      ]
    },
    {
      "cell_type": "code",
      "source": [
        "df=pd.read_csv('/content/drive/MyDrive/Colab Notebooks/NTI/K-N/Mall_Customers.csv')"
      ],
      "metadata": {
        "id": "XvQkKK3ZdK5D"
      },
      "execution_count": null,
      "outputs": []
    },
    {
      "cell_type": "code",
      "source": [
        "df"
      ],
      "metadata": {
        "id": "sha7RojQ6M78"
      },
      "execution_count": null,
      "outputs": []
    },
    {
      "cell_type": "code",
      "source": [
        "df.sample(50,random_state=42)"
      ],
      "metadata": {
        "id": "yZz_fqsX9SS8"
      },
      "execution_count": null,
      "outputs": []
    },
    {
      "cell_type": "code",
      "source": [
        "x=df.iloc[:,3:]\n"
      ],
      "metadata": {
        "id": "PbZH0l-C6M3k"
      },
      "execution_count": null,
      "outputs": []
    },
    {
      "cell_type": "code",
      "source": [
        "scaler=StandardScaler()\n",
        "scaled_data=scaler.fit_transform(x)"
      ],
      "metadata": {
        "id": "RgrBrZkzLq4l"
      },
      "execution_count": null,
      "outputs": []
    },
    {
      "cell_type": "markdown",
      "source": [
        "AgglomerativeClustering"
      ],
      "metadata": {
        "id": "hIjkysbDNZQ-"
      }
    },
    {
      "cell_type": "code",
      "source": [
        "model=AgglomerativeClustering(linkage='ward',n_clusters=5)"
      ],
      "metadata": {
        "id": "1vSxPtDmdpJX"
      },
      "execution_count": null,
      "outputs": []
    },
    {
      "cell_type": "markdown",
      "source": [
        "KMeans\n"
      ],
      "metadata": {
        "id": "DVGM5vAxNRFI"
      }
    },
    {
      "cell_type": "code",
      "source": [
        "Kmenas=KMeans(n_clusters=5,random_state=42)"
      ],
      "metadata": {
        "id": "sAKwyg5HNPrl"
      },
      "execution_count": null,
      "outputs": []
    },
    {
      "cell_type": "code",
      "source": [
        "kmeans_labels=model.fit_predict(scaled_data)\n",
        "kmeans_silhouette=silhouette_score(scaled_data,kmeans_labels)"
      ],
      "metadata": {
        "id": "KGbbmIS8eL1k"
      },
      "execution_count": null,
      "outputs": []
    },
    {
      "cell_type": "code",
      "source": [
        "print(\"Silhouette Scores:\")\n",
        "print(\"Kmeans:\",kmeans_silhouette)"
      ],
      "metadata": {
        "id": "cjWHPP1HMSMv"
      },
      "execution_count": null,
      "outputs": []
    },
    {
      "cell_type": "code",
      "source": [
        "sse = []\n",
        "for k in range(1,10):\n",
        "    km = KMeans(n_clusters=k)\n",
        "    km.fit(scaled_data)\n",
        "    sse.append(km.inertia_)\n",
        "\n",
        "plt.xlabel('No.of clusters, K')\n",
        "plt.ylabel('Sum of squared error')\n",
        "plt.plot(range(1,10),sse, marker=\"o\")\n"
      ],
      "metadata": {
        "id": "dvECDBfILHhK"
      },
      "execution_count": null,
      "outputs": []
    },
    {
      "cell_type": "code",
      "source": [
        "Z = linkage(scaled_data, 'ward')\n",
        "dendrogram(Z)\n",
        "plt.title('Hierarchical Clustering Dendrogram')\n",
        "plt.xlabel('Data point')\n",
        "plt.ylabel('Distance')\n",
        "plt.tight_layout()\n",
        "plt.show()"
      ],
      "metadata": {
        "id": "whrZ7HkNp0Me"
      },
      "execution_count": null,
      "outputs": []
    }
  ]
}