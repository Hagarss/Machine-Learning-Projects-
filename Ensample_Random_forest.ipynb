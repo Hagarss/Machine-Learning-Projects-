{
  "nbformat": 4,
  "nbformat_minor": 0,
  "metadata": {
    "colab": {
      "private_outputs": true,
      "provenance": []
    },
    "kernelspec": {
      "name": "python3",
      "display_name": "Python 3"
    },
    "language_info": {
      "name": "python"
    }
  },
  "cells": [
    {
      "cell_type": "markdown",
      "source": [
        "# *Regression*"
      ],
      "metadata": {
        "id": "ilIezzvzsa4T"
      }
    },
    {
      "cell_type": "code",
      "execution_count": null,
      "metadata": {
        "id": "I8F2Gu-usND1"
      },
      "outputs": [],
      "source": [
        "import numpy as np\n",
        "import matplotlib.pyplot as plt\n",
        "import seaborn as sns\n",
        "import pandas as pd\n",
        "from sklearn.model_selection import train_test_split\n",
        "from sklearn.ensemble import RandomForestRegressor,RandomForestClassifier\n",
        "from sklearn.metrics import mean_squared_error\n",
        "from sklearn import tree"
      ]
    },
    {
      "cell_type": "code",
      "source": [
        "df=pd.read_csv('/content/drive/MyDrive/Colab Notebooks/Data/Position_Salaries.csv')"
      ],
      "metadata": {
        "id": "joK9pCRpsuY9"
      },
      "execution_count": null,
      "outputs": []
    },
    {
      "cell_type": "code",
      "source": [
        "rf=RandomForestRegressor(n_estimators=100,random_state=42)\n"
      ],
      "metadata": {
        "id": "Irw3h5jktO3O"
      },
      "execution_count": null,
      "outputs": []
    },
    {
      "cell_type": "code",
      "source": [
        "x=df.iloc[:,1:-1].values\n",
        "y=df.iloc[:,-1].values"
      ],
      "metadata": {
        "id": "PuYQX4sHtX-O"
      },
      "execution_count": null,
      "outputs": []
    },
    {
      "cell_type": "code",
      "source": [
        "rf.fit(x,y)"
      ],
      "metadata": {
        "id": "J736xGL5tdrJ"
      },
      "execution_count": null,
      "outputs": []
    },
    {
      "cell_type": "code",
      "source": [
        "rf.n_estimators"
      ],
      "metadata": {
        "id": "7IkDYsS6t-6V"
      },
      "execution_count": null,
      "outputs": []
    },
    {
      "cell_type": "code",
      "source": [
        "rf.min_samples_split"
      ],
      "metadata": {
        "id": "mStQFlhcuA7Y"
      },
      "execution_count": null,
      "outputs": []
    },
    {
      "cell_type": "code",
      "source": [],
      "metadata": {
        "id": "iAlFGIapwitv"
      },
      "execution_count": null,
      "outputs": []
    },
    {
      "cell_type": "code",
      "source": [
        "y_pred=rf.predict([[6.5]])\n",
        "y_pred"
      ],
      "metadata": {
        "id": "rq-35JbotgaE"
      },
      "execution_count": null,
      "outputs": []
    },
    {
      "cell_type": "markdown",
      "source": [],
      "metadata": {
        "id": "FvROMiMEtlGA"
      }
    },
    {
      "cell_type": "code",
      "source": [
        "#plot\n",
        "plt.scatter(x,y,color='red')\n",
        "plt.plot(x,rf.predict(x),color='blue')\n",
        "plt.title('Random Forest Regression')\n",
        "plt.xlabel('Position Level')\n",
        "plt.ylabel('Salary')\n",
        "plt.show()"
      ],
      "metadata": {
        "id": "i-d3OWlzuRNR"
      },
      "execution_count": null,
      "outputs": []
    },
    {
      "cell_type": "code",
      "source": [
        "from sklearn.metrics import mean_squared_error,r2_score\n",
        "y_pred=rf.predict(x)\n",
        "mse=mean_squared_error(y,y_pred)\n",
        "r2=r2_score(y,y_pred)\n",
        "r2"
      ],
      "metadata": {
        "id": "icnjYPZzuhM_"
      },
      "execution_count": null,
      "outputs": []
    },
    {
      "cell_type": "code",
      "source": [
        "mse"
      ],
      "metadata": {
        "id": "m1TaHHXpupMY"
      },
      "execution_count": null,
      "outputs": []
    },
    {
      "cell_type": "code",
      "source": [
        "tree.plot_tree(rf.estimators_[2],filled=True,feature_names=['Position Level'])\n",
        "plt.tight_layout()\n",
        "plt.show()"
      ],
      "metadata": {
        "id": "gr39WlfjuzhH"
      },
      "execution_count": null,
      "outputs": []
    },
    {
      "cell_type": "code",
      "source": [
        "import graphviz\n",
        "dot_data=tree.export_graphviz(rf.estimators_[2],out_file=None)\n",
        "graph=graphviz.Source(dot_data)\n",
        "graph"
      ],
      "metadata": {
        "id": "E0TOW4UixmB1"
      },
      "execution_count": null,
      "outputs": []
    },
    {
      "cell_type": "code",
      "source": [],
      "metadata": {
        "id": "Opze5xQizK8C"
      },
      "execution_count": null,
      "outputs": []
    },
    {
      "cell_type": "code",
      "source": [
        "from tensorflow.keras.preprocessing.image import load_img,img_to_array\n"
      ],
      "metadata": {
        "id": "sE1BXNj2zK5U"
      },
      "execution_count": null,
      "outputs": []
    },
    {
      "cell_type": "code",
      "source": [],
      "metadata": {
        "id": "URs--EVwzK0x"
      },
      "execution_count": null,
      "outputs": []
    },
    {
      "cell_type": "code",
      "source": [
        "from sklearn.datasets import load_iris\n",
        "iris=load_iris()\n",
        "X=pd.DataFrame(iris.data,columns=iris.feature_names)\n",
        "y=pd.Series(iris.target)\n",
        "#"
      ],
      "metadata": {
        "id": "C6DH6wCPzqqw"
      },
      "execution_count": null,
      "outputs": []
    },
    {
      "cell_type": "code",
      "source": [
        "x_train,x_test,y_train,y_test=train_test_split(X,y,test_size=0.4,random_state=30)\n",
        "x_train.shape\n"
      ],
      "metadata": {
        "id": "g-FRAWwozWYc"
      },
      "execution_count": null,
      "outputs": []
    },
    {
      "cell_type": "code",
      "source": [
        "rf1=RandomForestRegressor(n_estimators=100,random_state=42)\n",
        "rf1.fit(x_train,y_train)\n"
      ],
      "metadata": {
        "id": "SpOj4mO91ONv"
      },
      "execution_count": null,
      "outputs": []
    },
    {
      "cell_type": "code",
      "source": [
        "y_pred=rf1.predict(x_test)"
      ],
      "metadata": {
        "id": "pYwnzYgX0NuK"
      },
      "execution_count": null,
      "outputs": []
    },
    {
      "cell_type": "code",
      "source": [
        "#r2\n",
        "r2_score(y_test,y_pred)"
      ],
      "metadata": {
        "id": "pquqgLUm0NrC"
      },
      "execution_count": null,
      "outputs": []
    },
    {
      "cell_type": "code",
      "source": [
        "rf1.min_samples_split"
      ],
      "metadata": {
        "id": "rnrBlgU30c-P"
      },
      "execution_count": null,
      "outputs": []
    },
    {
      "cell_type": "code",
      "source": [
        "import time\n",
        "start=time.time()\n",
        "end=time.time()\n",
        "print(end-start)"
      ],
      "metadata": {
        "id": "FMDlXD9G2MIZ"
      },
      "execution_count": null,
      "outputs": []
    },
    {
      "cell_type": "code",
      "source": [
        "plt.figure(figsize=(15,15))\n",
        "tree.plot_tree(rf1.estimators_[2],filled=True,feature_names=iris.feature_names,class_names=iris.target_names)\n",
        "plt.tight_layout()\n",
        "plt.show()"
      ],
      "metadata": {
        "id": "RJrphdOo0dZy"
      },
      "execution_count": null,
      "outputs": []
    },
    {
      "cell_type": "code",
      "source": [
        "import graphviz\n",
        "dot_data=tree.export_graphviz(rf1.estimators_[2],out_file=None,feature_names=iris.feature_names,class_names=iris.target_names)\n",
        "graph=graphviz.Source(dot_data)\n",
        "graph"
      ],
      "metadata": {
        "id": "Aa3rBft18RQO"
      },
      "execution_count": null,
      "outputs": []
    },
    {
      "cell_type": "code",
      "source": [
        "rf1.feature_importances_"
      ],
      "metadata": {
        "id": "KFWTgxyj1v0-"
      },
      "execution_count": null,
      "outputs": []
    },
    {
      "cell_type": "code",
      "source": [
        "feature_importance=pd.DataFrame({'Feature':iris.feature_names,'Importance':rf1.feature_importances_})\n",
        "feature_importance.sort_values(by='Importance',ascending=False)"
      ],
      "metadata": {
        "id": "nvtfEf8M1x0b"
      },
      "execution_count": null,
      "outputs": []
    },
    {
      "cell_type": "code",
      "source": [],
      "metadata": {
        "id": "BvaYtFK35Xwo"
      },
      "execution_count": null,
      "outputs": []
    },
    {
      "cell_type": "code",
      "source": [
        "from sklearn.datasets import load_breast_cancer\n",
        "breast_cancer=load_breast_cancer()\n",
        "X=pd.DataFrame(breast_cancer.data,columns=breast_cancer.feature_names)\n",
        "y=pd.Series(breast_cancer.target)\n",
        "#"
      ],
      "metadata": {
        "id": "3E7h1TrS3vqr"
      },
      "execution_count": null,
      "outputs": []
    },
    {
      "cell_type": "code",
      "source": [
        "x_train,x_test,y_train,y_test=train_test_split(X,y,test_size=0.2,random_state=42)\n",
        "x_train.shape\n"
      ],
      "metadata": {
        "id": "j1PEGwrS39Vj"
      },
      "execution_count": null,
      "outputs": []
    },
    {
      "cell_type": "code",
      "source": [
        "rf1=RandomForestClassifier(n_estimators=10,random_state=5)\n",
        "rf1.fit(x_train,y_train)\n"
      ],
      "metadata": {
        "id": "we9zdWbH4BG-"
      },
      "execution_count": null,
      "outputs": []
    },
    {
      "cell_type": "code",
      "source": [
        "y_pred=rf1.predict(x_test)"
      ],
      "metadata": {
        "id": "VVOdikV24GCL"
      },
      "execution_count": null,
      "outputs": []
    },
    {
      "cell_type": "code",
      "source": [
        "#accuracy\n",
        "from sklearn.metrics import accuracy_score\n",
        "accuracy_score(y_test,y_pred)"
      ],
      "metadata": {
        "id": "D8se_hN74GCM"
      },
      "execution_count": null,
      "outputs": []
    },
    {
      "cell_type": "code",
      "source": [
        "rf1.min_samples_split"
      ],
      "metadata": {
        "id": "YyX-hGUW4GCM"
      },
      "execution_count": null,
      "outputs": []
    },
    {
      "cell_type": "code",
      "source": [
        "import time\n",
        "start=time.time()\n",
        "end=time.time()\n",
        "print(end-start)"
      ],
      "metadata": {
        "id": "Hr8Ys6cS4GCN"
      },
      "execution_count": null,
      "outputs": []
    },
    {
      "cell_type": "code",
      "source": [
        "plt.figure(figsize=(20,20))\n",
        "tree.plot_tree(rf1.estimators_[2],filled=True,feature_names=breast_cancer.feature_names,class_names=breast_cancer.target_names)\n",
        "plt.tight_layout()\n",
        "plt.show()"
      ],
      "metadata": {
        "id": "OektteYf4GCN"
      },
      "execution_count": null,
      "outputs": []
    },
    {
      "cell_type": "code",
      "source": [
        "import graphviz\n",
        "dot_data=tree.export_graphviz(rf.estimators_[2],out_file=None)\n",
        "graph=graphviz.Source(dot_data)\n",
        "graph"
      ],
      "metadata": {
        "id": "GmVL9U4P8ZXE"
      },
      "execution_count": null,
      "outputs": []
    },
    {
      "cell_type": "code",
      "source": [
        "rf1.feature_importances_"
      ],
      "metadata": {
        "id": "x2uRnLym4GCO"
      },
      "execution_count": null,
      "outputs": []
    },
    {
      "cell_type": "code",
      "source": [
        "feature_importance=pd.DataFrame({'Feature':breast_cancer.feature_names,'Importance':rf1.feature_importances_})\n",
        "feature_importance.sort_values(by='Importance',ascending=False)"
      ],
      "metadata": {
        "id": "gXleWz-p4GCO"
      },
      "execution_count": null,
      "outputs": []
    },
    {
      "cell_type": "code",
      "source": [
        "#plot feature importance\n",
        "sns.barplot(x='Feature',y='Importance',data=feature_importance)\n",
        "plt.xticks(rotation=90)"
      ],
      "metadata": {
        "id": "MK8uBqsG6NF_"
      },
      "execution_count": null,
      "outputs": []
    },
    {
      "cell_type": "code",
      "source": [],
      "metadata": {
        "id": "MbycloKk9S0C"
      },
      "execution_count": null,
      "outputs": []
    }
  ]
}