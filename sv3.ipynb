{
  "nbformat": 4,
  "nbformat_minor": 0,
  "metadata": {
    "colab": {
      "private_outputs": true,
      "provenance": []
    },
    "kernelspec": {
      "name": "python3",
      "display_name": "Python 3"
    },
    "language_info": {
      "name": "python"
    }
  },
  "cells": [
    {
      "cell_type": "code",
      "execution_count": null,
      "metadata": {
        "id": "nzwpSIHy3vSu"
      },
      "outputs": [],
      "source": [
        "import numpy as np\n",
        "import matplotlib.pyplot as plt\n",
        "import seaborn as sns\n",
        "import pandas as pd\n",
        "from sklearn.model_selection import train_test_split\n",
        "from sklearn.inspection import DecisionBoundaryDisplay\n",
        "\n",
        "from sklearn.datasets import load_breast_cancer\n",
        "cancer=load_breast_cancer()\n"
      ]
    },
    {
      "cell_type": "code",
      "source": [
        "# import support vector\n",
        "from sklearn.svm import SVC\n",
        "from sklearn.metrics import accuracy_score,hinge_loss\n",
        "c=1\n",
        "clf=SVC(C=c)\n"
      ],
      "metadata": {
        "id": "iQOapnST33_c"
      },
      "execution_count": null,
      "outputs": []
    },
    {
      "cell_type": "code",
      "source": [
        "df=pd.read_csv('/content/drive/MyDrive/Colab Notebooks/Data/car_data.csv')"
      ],
      "metadata": {
        "id": "HUPEwo7H35t3"
      },
      "execution_count": null,
      "outputs": []
    },
    {
      "cell_type": "code",
      "source": [],
      "metadata": {
        "id": "fL2MidsVKE-P"
      },
      "execution_count": null,
      "outputs": []
    },
    {
      "cell_type": "code",
      "source": [
        "x=cancer.data\n",
        "y=cancer.target"
      ],
      "metadata": {
        "id": "8Yf-1DkW387H"
      },
      "execution_count": null,
      "outputs": []
    },
    {
      "cell_type": "code",
      "source": [
        "from sklearn.model_selection import train_test_split\n",
        "x_train,x_test,y_train,y_test=train_test_split(x,y,test_size=0.4,random_state=42)\n",
        "x_train\n"
      ],
      "metadata": {
        "id": "h_eAyTxe3_A6"
      },
      "execution_count": null,
      "outputs": []
    },
    {
      "cell_type": "code",
      "source": [
        "from sklearn.preprocessing import MinMaxScaler,StandardScaler\n",
        "sc=StandardScaler()\n",
        "x_train=sc.fit_transform(x_train)\n",
        "x_test=sc.transform(x_test)\n",
        "\n"
      ],
      "metadata": {
        "id": "Se5yHKQp4Qft"
      },
      "execution_count": null,
      "outputs": []
    },
    {
      "cell_type": "code",
      "source": [
        "clf.fit(x_train,y_train)\n",
        "y_pred=clf.predict(x_test)\n",
        "y_pred[0:10]"
      ],
      "metadata": {
        "id": "7JTVY8694VD9"
      },
      "execution_count": null,
      "outputs": []
    },
    {
      "cell_type": "code",
      "source": [
        "accuracy_score(y_test,y_pred)"
      ],
      "metadata": {
        "id": "gHgqVK8B4czt"
      },
      "execution_count": null,
      "outputs": []
    },
    {
      "cell_type": "code",
      "source": [
        "y_pred_dec=clf.decision_function(x_test)\n",
        "y_pred_dec[0:10]\n"
      ],
      "metadata": {
        "id": "aLOyEInJ4h01"
      },
      "execution_count": null,
      "outputs": []
    },
    {
      "cell_type": "code",
      "source": [
        "y_pred_sign=np.sign(y_pred_dec)\n",
        "y_pred_sign[0:10]\n"
      ],
      "metadata": {
        "id": "7X1a3EhR4nb2"
      },
      "execution_count": null,
      "outputs": []
    },
    {
      "cell_type": "code",
      "source": [
        "y_pred1=[0 if l==-1 else 1 for l in y_pred_sign]\n",
        "y_pred1[0:10]"
      ],
      "metadata": {
        "id": "xiWaPbtW4qrR"
      },
      "execution_count": null,
      "outputs": []
    },
    {
      "cell_type": "code",
      "source": [
        "y1=np.array([-1 if l==0 else 1 for l in y_test])\n",
        "y1[0:10]"
      ],
      "metadata": {
        "id": "nBJ5DWAs4r4k"
      },
      "execution_count": null,
      "outputs": []
    },
    {
      "cell_type": "code",
      "source": [
        "#loss\n",
        "hinge_loss(y1,y_pred_dec)"
      ],
      "metadata": {
        "id": "LbH5f76K4xxJ"
      },
      "execution_count": null,
      "outputs": []
    },
    {
      "cell_type": "code",
      "source": [
        "x=cancer.data[:,:2]\n",
        "y=cancer.target"
      ],
      "metadata": {
        "id": "2No53T3NJ02Y"
      },
      "execution_count": null,
      "outputs": []
    },
    {
      "cell_type": "code",
      "source": [
        "from sklearn.model_selection import train_test_split\n",
        "x_train,x_test,y_train,y_test=train_test_split(x,y,test_size=0.4,random_state=42)\n",
        "x_train\n"
      ],
      "metadata": {
        "id": "51WCQ9A5J02Z"
      },
      "execution_count": null,
      "outputs": []
    },
    {
      "cell_type": "code",
      "source": [
        "from sklearn.preprocessing import MinMaxScaler,StandardScaler\n",
        "sc=StandardScaler()\n",
        "x_train=sc.fit_transform(x_train)\n",
        "x_test=sc.transform(x_test)\n",
        "\n"
      ],
      "metadata": {
        "id": "H5IvnAGvJ02Z"
      },
      "execution_count": null,
      "outputs": []
    },
    {
      "cell_type": "code",
      "source": [
        "clf.fit(x_train,y_train)\n",
        "y_pred=clf.predict(x_test)\n",
        "y_pred[0:10]"
      ],
      "metadata": {
        "id": "f5hbLKl7J02a"
      },
      "execution_count": null,
      "outputs": []
    },
    {
      "cell_type": "code",
      "source": [
        "accuracy_score(y_test,y_pred)"
      ],
      "metadata": {
        "id": "SPn3O6lMJ02a"
      },
      "execution_count": null,
      "outputs": []
    },
    {
      "cell_type": "code",
      "source": [
        "y_pred_dec=clf.decision_function(x_test)\n",
        "y_pred_dec[0:10]\n"
      ],
      "metadata": {
        "id": "ivZ5W01AJ02a"
      },
      "execution_count": null,
      "outputs": []
    },
    {
      "cell_type": "code",
      "source": [
        "y_pred_sign=np.sign(y_pred_dec)\n",
        "y_pred_sign[0:10]\n"
      ],
      "metadata": {
        "id": "suDgC5dUJ02a"
      },
      "execution_count": null,
      "outputs": []
    },
    {
      "cell_type": "code",
      "source": [
        "y_pred1=[0 if l==-1 else 1 for l in y_pred_sign]\n",
        "y_pred1[0:10]"
      ],
      "metadata": {
        "id": "rEQugjtVJ02a"
      },
      "execution_count": null,
      "outputs": []
    },
    {
      "cell_type": "code",
      "source": [
        "y1=np.array([-1 if l==0 else 1 for l in y_test])\n",
        "y1[0:10]"
      ],
      "metadata": {
        "id": "OgSEY2pbJ02a"
      },
      "execution_count": null,
      "outputs": []
    },
    {
      "cell_type": "code",
      "source": [
        "#loss\n",
        "hinge_loss(y1,y_pred_dec)"
      ],
      "metadata": {
        "id": "IhpxIaklJ02a"
      },
      "execution_count": null,
      "outputs": []
    },
    {
      "cell_type": "code",
      "source": [
        "DecisionBoundaryDisplay.from_estimator(  clf, x_test, response_method=\"predict\",\n",
        "      xlabel=\"feature1\", ylabel=\"feature2\")\n",
        "plt.scatter(x_test[:, 0], x_test[:, 1], c=y_test, edgecolors='k')\n",
        "\n",
        "# plt.xlabel(\"X1\")\n",
        "# plt.ylabel(\"X2\")\n",
        "plt.ylim(-3,3)\n",
        "plt.legend()\n",
        "plt.show()\n"
      ],
      "metadata": {
        "id": "3S50xFAuJ02b"
      },
      "execution_count": null,
      "outputs": []
    },
    {
      "cell_type": "code",
      "source": [],
      "metadata": {
        "id": "euz9eFZz4z61"
      },
      "execution_count": null,
      "outputs": []
    }
  ]
}