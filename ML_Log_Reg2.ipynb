{
  "nbformat": 4,
  "nbformat_minor": 0,
  "metadata": {
    "colab": {
      "private_outputs": true,
      "provenance": []
    },
    "kernelspec": {
      "name": "python3",
      "display_name": "Python 3"
    },
    "language_info": {
      "name": "python"
    }
  },
  "cells": [
    {
      "cell_type": "code",
      "execution_count": null,
      "metadata": {
        "id": "n_c9J87U4Nlk"
      },
      "outputs": [],
      "source": [
        "import numpy as np\n",
        "import matplotlib.pyplot as plt\n",
        "import seaborn as sns\n",
        "import pandas as pd\n",
        "from sklearn.linear_model import LogisticRegression\n",
        "from sklearn.metrics import accuracy_score,confusion_matrix,classification_report\n",
        "from sklearn.model_selection import train_test_split\n",
        "\n"
      ]
    },
    {
      "cell_type": "code",
      "source": [
        "df=pd.read_csv('car_data.csv')\n",
        "df.head()"
      ],
      "metadata": {
        "id": "AE-6RvSD4T2k"
      },
      "execution_count": null,
      "outputs": []
    },
    {
      "cell_type": "code",
      "source": [
        "df[\"Gender\"]=df[\"Gender\"].astype('category').cat.codes\n",
        "df.head()"
      ],
      "metadata": {
        "id": "VEswZwZQ4hwI"
      },
      "execution_count": null,
      "outputs": []
    },
    {
      "cell_type": "code",
      "source": [
        "df.info()"
      ],
      "metadata": {
        "id": "VjMuAfdL4ohF"
      },
      "execution_count": null,
      "outputs": []
    },
    {
      "cell_type": "code",
      "source": [
        "df.drop(columns=['User ID',\"Gender\"],inplace=True)\n",
        "df.head()"
      ],
      "metadata": {
        "id": "z5u3UIKr4wf2"
      },
      "execution_count": null,
      "outputs": []
    },
    {
      "cell_type": "code",
      "source": [
        "df.isna().sum()"
      ],
      "metadata": {
        "id": "NhaaV7Tg43Wd"
      },
      "execution_count": null,
      "outputs": []
    },
    {
      "cell_type": "code",
      "source": [
        "X=df.drop('Purchased',axis=1)\n",
        "y=df['Purchased']\n",
        "x_train,x_test,y_train,y_test=train_test_split(X,y,test_size=0.2,random_state=0)\n"
      ],
      "metadata": {
        "id": "cgvn8Oj4459V"
      },
      "execution_count": null,
      "outputs": []
    },
    {
      "cell_type": "code",
      "source": [
        "#scalling\n",
        "from sklearn.preprocessing import StandardScaler\n",
        "sc=StandardScaler()\n",
        "x_train=sc.fit_transform(x_train)\n",
        "x_test=sc.transform(x_test)\n",
        "#"
      ],
      "metadata": {
        "id": "D7eeMNAO5NSU"
      },
      "execution_count": null,
      "outputs": []
    },
    {
      "cell_type": "code",
      "source": [
        "#logistic regression\n",
        "lr=LogisticRegression()\n",
        "lr.fit(x_train,y_train)\n",
        "y_pred=lr.predict(x_test)\n"
      ],
      "metadata": {
        "id": "Vt0x5un65uOJ"
      },
      "execution_count": null,
      "outputs": []
    },
    {
      "cell_type": "code",
      "source": [
        "sum(y_pred==y_test)"
      ],
      "metadata": {
        "id": "9EOYycBm6gjn"
      },
      "execution_count": null,
      "outputs": []
    },
    {
      "cell_type": "code",
      "source": [
        "confusion_matrix=confusion_matrix(y_test,y_pred)\n",
        "confusion_matrix"
      ],
      "metadata": {
        "id": "HSLhA6fT51F0"
      },
      "execution_count": null,
      "outputs": []
    },
    {
      "cell_type": "code",
      "source": [
        "accuracy__score=(sum(y_pred==y_test)/len(y_test))\n",
        "accuracy__score"
      ],
      "metadata": {
        "id": "1st_hhjr6AoB"
      },
      "execution_count": null,
      "outputs": []
    },
    {
      "cell_type": "code",
      "source": [
        "accuracy_score(y_test,y_pred)"
      ],
      "metadata": {
        "id": "sqlX39EP6Egs"
      },
      "execution_count": null,
      "outputs": []
    },
    {
      "cell_type": "code",
      "source": [
        "lr.score(x_train,y_train)"
      ],
      "metadata": {
        "id": "LTNGbrI96HdK"
      },
      "execution_count": null,
      "outputs": []
    },
    {
      "cell_type": "code",
      "source": [
        "print(classification_report(y_test,y_pred))"
      ],
      "metadata": {
        "id": "bBUQG0146OLr"
      },
      "execution_count": null,
      "outputs": []
    },
    {
      "cell_type": "code",
      "source": [
        "df1=pd.DataFrame({'Actual observations':y_test,'Predicted observations':y_pred})\n",
        "df1"
      ],
      "metadata": {
        "id": "Z0GXl_xz6RYq"
      },
      "execution_count": null,
      "outputs": []
    },
    {
      "cell_type": "code",
      "source": [
        "df2=df1[df1[\"Actual observations\"]!=df1[\"Predicted observations\"]]\n",
        "df2"
      ],
      "metadata": {
        "id": "hSZefEk06Vxi"
      },
      "execution_count": null,
      "outputs": []
    },
    {
      "cell_type": "code",
      "source": [
        "#calculate cross entropy loss\n",
        "y_pred_prob=lr.predict_proba(x_test)\n",
        "y_pred_prob[0:5]"
      ],
      "metadata": {
        "id": "JDMv70Mc6mmE"
      },
      "execution_count": null,
      "outputs": []
    },
    {
      "cell_type": "code",
      "source": [
        "loss1=-np.mean(y_test*np.log(y_pred_prob[:,1])+(1-y_test)*np.log(1-y_pred_prob[:,1]))\n",
        "loss1"
      ],
      "metadata": {
        "id": "MzoaNzFd_FKD"
      },
      "execution_count": null,
      "outputs": []
    },
    {
      "cell_type": "code",
      "source": [
        "# calculate loss manual\n",
        "from keras.utils import to_categorical\n",
        "\n",
        "y_train_cat=to_categorical(y_train)\n",
        "y_test_cat=to_categorical(y_test)\n",
        "\n",
        "# in case of binary:\n",
        "loss1 = (-y_test_cat * np.log(y_pred_prob) - (1 - y_test_cat) * np.log(1 - y_pred_prob)).mean()\n",
        "print(loss1)\n",
        "\n",
        "# general form :\n",
        "\n",
        "loss2 = -np.sum(y_test_cat * np.log(y_pred_prob), axis=1).mean()\n",
        "print(loss2)\n"
      ],
      "metadata": {
        "id": "1df6XTrYCNuG"
      },
      "execution_count": null,
      "outputs": []
    },
    {
      "cell_type": "code",
      "source": [
        "from sklearn.metrics import log_loss\n",
        "loss=log_loss(y_test,y_pred_prob)\n",
        "loss"
      ],
      "metadata": {
        "id": "BdZKBNMx-P5u"
      },
      "execution_count": null,
      "outputs": []
    },
    {
      "cell_type": "code",
      "source": [
        "predd=np.argmax(y_pred_prob,axis=1)\n",
        "predd[0:5]"
      ],
      "metadata": {
        "id": "IfrSomnQ7H7t"
      },
      "execution_count": null,
      "outputs": []
    },
    {
      "cell_type": "code",
      "source": [
        "y_pred[0:5]"
      ],
      "metadata": {
        "id": "QzyLSnVW7O9l"
      },
      "execution_count": null,
      "outputs": []
    },
    {
      "cell_type": "code",
      "source": [
        "import matplotlib.pyplot as plt\n",
        "from sklearn import metrics\n",
        "cm_display = metrics.ConfusionMatrixDisplay(confusion_matrix = confusion_matrix, display_labels = [0, 1])\n",
        "cm_display.plot()\n",
        "plt.show()"
      ],
      "metadata": {
        "id": "_5XfTBcy7Wiu"
      },
      "execution_count": null,
      "outputs": []
    }
  ]
}